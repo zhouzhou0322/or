{
 "cells": [
  {
   "cell_type": "markdown",
   "id": "a1eee39b",
   "metadata": {},
   "source": [
    "## Assignment with MI\n",
    "https://developers.google.com/optimization/assignment/assignment_example?hl=zh-cn"
   ]
  },
  {
   "cell_type": "code",
   "execution_count": 3,
   "id": "4fb77323",
   "metadata": {
    "scrolled": true
   },
   "outputs": [
    {
     "name": "stdout",
     "output_type": "stream",
     "text": [
      "Looking in indexes: https://pypi.doubanio.com/simple\n",
      "Collecting ortools\n",
      "  Downloading https://pypi.doubanio.com/packages/db/9a/f4427b845a29d6f25e61039ebf979c6f87d925e44afd373abe7aa74a2f7f/ortools-9.5.2237-cp39-cp39-manylinux_2_17_x86_64.manylinux2014_x86_64.whl (16.3 MB)\n",
      "\u001b[K     |████████████████████████████████| 16.3 MB 611 kB/s eta 0:00:011\n",
      "\u001b[?25hRequirement already satisfied: numpy>=1.13.3 in /home/zhouzhou/miniconda3/lib/python3.9/site-packages (from ortools) (1.19.5)\n",
      "Collecting absl-py>=0.13\n",
      "  Downloading https://pypi.doubanio.com/packages/dd/87/de5c32fa1b1c6c3305d576e299801d8655c175ca9557019906247b994331/absl_py-1.4.0-py3-none-any.whl (126 kB)\n",
      "\u001b[K     |████████████████████████████████| 126 kB 7.3 MB/s eta 0:00:01\n",
      "\u001b[?25hCollecting protobuf>=4.21.5\n",
      "  Downloading https://pypi.doubanio.com/packages/89/80/d5fc86e6d6761e353b67e616be29224c17a66064ffced0c6f2e3829e3dd8/protobuf-4.22.0-cp37-abi3-manylinux2014_x86_64.whl (302 kB)\n",
      "\u001b[K     |████████████████████████████████| 302 kB 4.5 MB/s eta 0:00:01\n",
      "\u001b[?25hInstalling collected packages: protobuf, absl-py, ortools\n",
      "Successfully installed absl-py-1.4.0 ortools-9.5.2237 protobuf-4.22.0\n"
     ]
    }
   ],
   "source": [
    "!pip install ortools"
   ]
  },
  {
   "cell_type": "code",
   "execution_count": 20,
   "id": "2574dfc1",
   "metadata": {},
   "outputs": [
    {
     "name": "stdout",
     "output_type": "stream",
     "text": [
      "IP\t: 58.246.115.34\r\n",
      "地址\t: 中国  上海\r\n",
      "运营商\t: 联通\r\n",
      "\r\n",
      "数据二\t: 上海市 | 联通\r\n",
      "\r\n",
      "数据三\t: 中国上海上海市 | 联通\r\n",
      "\r\n",
      "URL\t: http://www.cip.cc/58.246.115.34\r\n"
     ]
    }
   ],
   "source": [
    "!export http_proxy=http://10.10.143.227:8889/; export https_proxy=http://10.10.143.227:8889/; export HTTPS_PROXY=http://10.10.143.227:8889/; export HTTP_PROXY=http://10.10.143.227:8889/\n",
    "! curl cip.cc"
   ]
  },
  {
   "cell_type": "code",
   "execution_count": 21,
   "id": "17226b55",
   "metadata": {},
   "outputs": [],
   "source": [
    "from ortools.linear_solver import pywraplp\n"
   ]
  },
  {
   "cell_type": "code",
   "execution_count": 26,
   "id": "64fe7f18",
   "metadata": {},
   "outputs": [
    {
     "name": "stdout",
     "output_type": "stream",
     "text": [
      "Total cost = 265.0\n",
      "\n",
      "Worker 0 assigned to task 3. Cost: 70\n",
      "Worker 1 assigned to task 2. Cost: 55\n",
      "Worker 2 assigned to task 1. Cost: 95\n",
      "Worker 3 assigned to task 0. Cost: 45\n"
     ]
    }
   ],
   "source": [
    "from ortools.linear_solver import pywraplp\n",
    "\n",
    "\n",
    "def main():\n",
    "    # Data\n",
    "    costs = [\n",
    "        [90, 80, 75, 70],\n",
    "        [35, 85, 55, 65],\n",
    "        [125, 95, 90, 95],\n",
    "        [45, 110, 95, 115],\n",
    "        [50, 100, 90, 100],\n",
    "    ]\n",
    "    num_workers = len(costs)\n",
    "    num_tasks = len(costs[0])\n",
    "\n",
    "    # Solver\n",
    "    # Create the mip solver with the SCIP backend.\n",
    "    solver = pywraplp.Solver.CreateSolver('SCIP')\n",
    "\n",
    "    if not solver:\n",
    "        return\n",
    "\n",
    "    # Variables\n",
    "    # x[i, j] is an array of 0-1 variables, which will be 1\n",
    "    # if worker i is assigned to task j.\n",
    "    x = {}\n",
    "    for i in range(num_workers):\n",
    "        for j in range(num_tasks):\n",
    "            x[i, j] = solver.IntVar(0, 1, '')\n",
    "\n",
    "    # Constraints\n",
    "    # Each worker is assigned to at most 1 task.\n",
    "    for i in range(num_workers):\n",
    "        solver.Add(solver.Sum([x[i, j] for j in range(num_tasks)]) <= 1)\n",
    "\n",
    "    # Each task is assigned to exactly one worker.\n",
    "    for j in range(num_tasks):\n",
    "        solver.Add(solver.Sum([x[i, j] for i in range(num_workers)]) == 1)\n",
    "\n",
    "    # Objective\n",
    "    objective_terms = []\n",
    "    for i in range(num_workers):\n",
    "        for j in range(num_tasks):\n",
    "            objective_terms.append(costs[i][j] * x[i, j])\n",
    "    solver.Minimize(solver.Sum(objective_terms))\n",
    "\n",
    "    # Solve\n",
    "    status = solver.Solve()\n",
    "\n",
    "    # Print solution.\n",
    "    if status == pywraplp.Solver.OPTIMAL or status == pywraplp.Solver.FEASIBLE:\n",
    "        print(f'Total cost = {solver.Objective().Value()}\\n')\n",
    "        for i in range(num_workers):\n",
    "            for j in range(num_tasks):\n",
    "                # Test if x[i,j] is 1 (with tolerance for floating point arithmetic).\n",
    "                if x[i, j].solution_value() > 0.5:\n",
    "                    print(f'Worker {i} assigned to task {j}.' +\n",
    "                          f' Cost: {costs[i][j]}')\n",
    "    else:\n",
    "        print('No solution found.')\n",
    "\n",
    "\n",
    "if __name__ == '__main__':\n",
    "    main()"
   ]
  },
  {
   "cell_type": "markdown",
   "id": "4c94c08c",
   "metadata": {},
   "source": [
    " ## CP SAT\n",
    "OR-Tools中的CP-SAT求解器是一种针对约束编程（Constraint Programming）问题的求解器，其目标是在满足给定约束条件下寻找最优解。与之相比，线性规划（LP）问题是一种线性函数在限定条件下的最优化问题。\n",
    "\n",
    "CP-SAT求解器可以处理的问题范围更广泛，包括整数规划、布尔规划、排列问题等等，并且具有许多高级特性，如自定义搜索和剪枝策略等等。同时，由于CP-SAT求解器采用的是离散域上的算法，而非LP中的连续域优化方法，因此其求解速度可能更快，对于大规模问题表现得也更佳。\n",
    "\n",
    "与之相比，LP问题一般情况下需要使用基于单纯形算法的线性规划求解器（如Gurobi、CPLEX等）进行求解，并且只能处理线性约束问题。然而，在某些情况下，尤其是在约束条件为线性问题时，LP求解器可能会更加高效。\n",
    "\n",
    "综上所述，CP-SAT求解器和LP问题之间主要区别如下：\n",
    "\n"
   ]
  },
  {
   "cell_type": "code",
   "execution_count": 29,
   "id": "1cf8d32a",
   "metadata": {},
   "outputs": [
    {
     "name": "stdout",
     "output_type": "stream",
     "text": [
      "Total cost = 265.0\n",
      "\n",
      "Worker 0 assigned to task 3 Cost = 70\n",
      "Worker 1 assigned to task 2 Cost = 55\n",
      "Worker 2 assigned to task 1 Cost = 95\n",
      "Worker 3 assigned to task 0 Cost = 45\n"
     ]
    }
   ],
   "source": [
    "from ortools.sat.python import cp_model\n",
    "\n",
    "\n",
    "def main():\n",
    "    # Data\n",
    "    costs = [\n",
    "        [90, 80, 75, 70],\n",
    "        [35, 85, 55, 65],\n",
    "        [125, 95, 90, 95],\n",
    "        [45, 110, 95, 115],\n",
    "        [50, 100, 90, 100],\n",
    "    ]\n",
    "    num_workers = len(costs)\n",
    "    num_tasks = len(costs[0])\n",
    "\n",
    "    # Model\n",
    "    model = cp_model.CpModel()\n",
    "\n",
    "    # Variables\n",
    "    x = []\n",
    "    for i in range(num_workers):\n",
    "        t = []\n",
    "        for j in range(num_tasks):\n",
    "            t.append(model.NewBoolVar(f'x[{i},{j}]'))\n",
    "        x.append(t)\n",
    "\n",
    "    # Constraints\n",
    "    # Each worker is assigned to at most one task.\n",
    "    for i in range(num_workers):\n",
    "        model.AddAtMostOne(x[i][j] for j in range(num_tasks))\n",
    "\n",
    "    # Each task is assigned to exactly one worker.\n",
    "    for j in range(num_tasks):\n",
    "        model.AddExactlyOne(x[i][j] for i in range(num_workers))\n",
    "\n",
    "    # Objective\n",
    "    objective_terms = []\n",
    "    for i in range(num_workers):\n",
    "        for j in range(num_tasks):\n",
    "            objective_terms.append(costs[i][j] * x[i][j])\n",
    "    model.Minimize(sum(objective_terms))\n",
    "\n",
    "    # Solve\n",
    "    solver = cp_model.CpSolver()\n",
    "    status = solver.Solve(model)\n",
    "\n",
    "    # Print solution.\n",
    "    if status == cp_model.OPTIMAL or status == cp_model.FEASIBLE:\n",
    "        print(f'Total cost = {solver.ObjectiveValue()}')\n",
    "        print()\n",
    "        for i in range(num_workers):\n",
    "            for j in range(num_tasks):\n",
    "                if solver.BooleanValue(x[i][j]):\n",
    "                    print(\n",
    "                        f'Worker {i} assigned to task {j} Cost = {costs[i][j]}')\n",
    "    else:\n",
    "        print('No solution found.')\n",
    "\n",
    "\n",
    "if __name__ == '__main__':\n",
    "    main()"
   ]
  }
 ],
 "metadata": {
  "kernelspec": {
   "display_name": "Python 3 (ipykernel)",
   "language": "python",
   "name": "python3"
  },
  "language_info": {
   "codemirror_mode": {
    "name": "ipython",
    "version": 3
   },
   "file_extension": ".py",
   "mimetype": "text/x-python",
   "name": "python",
   "nbconvert_exporter": "python",
   "pygments_lexer": "ipython3",
   "version": "3.9.1"
  }
 },
 "nbformat": 4,
 "nbformat_minor": 5
}
